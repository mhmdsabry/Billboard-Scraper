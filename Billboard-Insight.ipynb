{
 "cells": [
  {
   "cell_type": "code",
   "execution_count": 3,
   "metadata": {
    "collapsed": true
   },
   "outputs": [],
   "source": [
    "import pandas as pd\n"
   ]
  },
  {
   "cell_type": "code",
   "execution_count": 52,
   "metadata": {
    "collapsed": false
   },
   "outputs": [
    {
     "data": {
      "text/html": [
       "<div>\n",
       "<table border=\"1\" class=\"dataframe\">\n",
       "  <thead>\n",
       "    <tr style=\"text-align: right;\">\n",
       "      <th></th>\n",
       "      <th>Weeks On #1</th>\n",
       "      <th>Week On Chart</th>\n",
       "      <th>Peak Rank</th>\n",
       "    </tr>\n",
       "  </thead>\n",
       "  <tbody>\n",
       "    <tr>\n",
       "      <th>count</th>\n",
       "      <td>1951.000000</td>\n",
       "      <td>1951.000000</td>\n",
       "      <td>1951.000000</td>\n",
       "    </tr>\n",
       "    <tr>\n",
       "      <th>mean</th>\n",
       "      <td>0.099949</td>\n",
       "      <td>11.375192</td>\n",
       "      <td>51.103024</td>\n",
       "    </tr>\n",
       "    <tr>\n",
       "      <th>std</th>\n",
       "      <td>0.965431</td>\n",
       "      <td>11.893186</td>\n",
       "      <td>29.148605</td>\n",
       "    </tr>\n",
       "    <tr>\n",
       "      <th>min</th>\n",
       "      <td>0.000000</td>\n",
       "      <td>0.000000</td>\n",
       "      <td>1.000000</td>\n",
       "    </tr>\n",
       "    <tr>\n",
       "      <th>25%</th>\n",
       "      <td>0.000000</td>\n",
       "      <td>0.000000</td>\n",
       "      <td>27.000000</td>\n",
       "    </tr>\n",
       "    <tr>\n",
       "      <th>50%</th>\n",
       "      <td>0.000000</td>\n",
       "      <td>8.000000</td>\n",
       "      <td>52.000000</td>\n",
       "    </tr>\n",
       "    <tr>\n",
       "      <th>75%</th>\n",
       "      <td>0.000000</td>\n",
       "      <td>20.000000</td>\n",
       "      <td>76.000000</td>\n",
       "    </tr>\n",
       "    <tr>\n",
       "      <th>max</th>\n",
       "      <td>16.000000</td>\n",
       "      <td>59.000000</td>\n",
       "      <td>100.000000</td>\n",
       "    </tr>\n",
       "  </tbody>\n",
       "</table>\n",
       "</div>"
      ],
      "text/plain": [
       "       Weeks On #1  Week On Chart    Peak Rank\n",
       "count  1951.000000    1951.000000  1951.000000\n",
       "mean      0.099949      11.375192    51.103024\n",
       "std       0.965431      11.893186    29.148605\n",
       "min       0.000000       0.000000     1.000000\n",
       "25%       0.000000       0.000000    27.000000\n",
       "50%       0.000000       8.000000    52.000000\n",
       "75%       0.000000      20.000000    76.000000\n",
       "max      16.000000      59.000000   100.000000"
      ]
     },
     "execution_count": 52,
     "metadata": {},
     "output_type": "execute_result"
    }
   ],
   "source": [
    "df = pd.read_csv('Billboard.csv')\n",
    "df.columns = ['Song','Artist','Weeks On #1','Week On Chart','Peak Rank']\n",
    "df.describe()\n"
   ]
  },
  {
   "cell_type": "code",
   "execution_count": 29,
   "metadata": {
    "collapsed": false
   },
   "outputs": [
    {
     "name": "stdout",
     "output_type": "stream",
     "text": [
      "Song              Shape Of You\n",
      "Artist              Ed Sheeran\n",
      "Weeks On Chart              59\n",
      "Name: 927, dtype: object\n",
      "Song                                                   Despacito\n",
      "Artist         Luis Fonsi & Daddy Yankee Featuring Justin Bieber\n",
      "Weeks On #1                                                   16\n",
      "Name: 934, dtype: object\n"
     ]
    }
   ],
   "source": [
    "print(df.loc[df['Weeks On Chart'].idxmax(),['Song','Artist','Weeks On Chart']])\n",
    "print(df.loc[df['Weeks On #1'].idxmax(),['Song','Artist','Weeks On #1']])"
   ]
  },
  {
   "cell_type": "code",
   "execution_count": 24,
   "metadata": {
    "collapsed": false
   },
   "outputs": [
    {
     "name": "stdout",
     "output_type": "stream",
     "text": [
      "226               Commas\n",
      "333           Blow A Bag\n",
      "416               Jersey\n",
      "481             Rich $ex\n",
      "508           Stick Talk\n",
      "550        Fly S**t Only\n",
      "632               Wicked\n",
      "986                Draco\n",
      "987             Mask Off\n",
      "989           Rent Money\n",
      "991        Super Trapper\n",
      "992                 Zoom\n",
      "1284        Feed Me Dope\n",
      "1288           4 Da Gang\n",
      "1624            Wifi Lit\n",
      "1626             31 Days\n",
      "1627     Cuddle My Wrist\n",
      "1629          Racks Blue\n",
      "1925          Crushed Up\n",
      "1933     Jumpin On A Jet\n",
      "1939          Never Stop\n",
      "1942          Temptation\n",
      "1943         Rocket Ship\n",
      "1945                 F&N\n",
      "1950    Call The Coroner\n",
      "Name: Song, dtype: object\n",
      "25\n"
     ]
    }
   ],
   "source": [
    "future = df.loc[df['Artist']=='Future','Song']\n",
    "print(future)\n",
    "print(len(future))"
   ]
  },
  {
   "cell_type": "code",
   "execution_count": 26,
   "metadata": {
    "collapsed": false
   },
   "outputs": [
    {
     "name": "stdout",
     "output_type": "stream",
     "text": [
      "1336               My Dawg\n",
      "1538             Southside\n",
      "1773         Close Friends\n",
      "1782              Deep End\n",
      "1851          Pure Cocaine\n",
      "1867           Crush A Lot\n",
      "1869                Global\n",
      "1870    Word On The Street\n",
      "Name: Song, dtype: object\n",
      "8\n"
     ]
    }
   ],
   "source": [
    "lilbaby = df.loc[df['Artist']=='Lil Baby','Song']\n",
    "print(lilbaby)\n",
    "print(len(lilbaby))"
   ]
  },
  {
   "cell_type": "code",
   "execution_count": 41,
   "metadata": {
    "collapsed": false
   },
   "outputs": [
    {
     "name": "stdout",
     "output_type": "stream",
     "text": [
      "21\n",
      "                         Song  \\\n",
      "2                Uptown Funk!   \n",
      "3           Thinking Out Loud   \n",
      "26               Stay With Me   \n",
      "85          Shut Up And Dance   \n",
      "140                Trap Queen   \n",
      "204             See You Again   \n",
      "251              Stressed Out   \n",
      "278                  Stitches   \n",
      "424                   Perfect   \n",
      "553         Don't Let Me Down   \n",
      "558             Cheap Thrills   \n",
      "672   Can't Stop The Feeling!   \n",
      "750                    Closer   \n",
      "832      Say You Won't Let Go   \n",
      "859        That's What I Like   \n",
      "927              Shape Of You   \n",
      "934                 Despacito   \n",
      "958                  Believer   \n",
      "1092                  Thunder   \n",
      "1282              Meant To Be   \n",
      "1501              Wake Me Up!   \n",
      "\n",
      "                                                 Artist  Weeks On Chart  \n",
      "2                      Mark Ronson Featuring Bruno Mars              56  \n",
      "3                                            Ed Sheeran              58  \n",
      "26                                            Sam Smith              54  \n",
      "85                                        WALK THE MOON              53  \n",
      "140                                           Fetty Wap              52  \n",
      "204                  Wiz Khalifa Featuring Charlie Puth              52  \n",
      "251                                   twenty one pilots              52  \n",
      "278                                        Shawn Mendes              52  \n",
      "424                                       One Direction              57  \n",
      "553                     The Chainsmokers Featuring Daya              52  \n",
      "558                             Sia Featuring Sean Paul              52  \n",
      "672                                   Justin Timberlake              52  \n",
      "750                   The Chainsmokers Featuring Halsey              52  \n",
      "832                                        James Arthur              52  \n",
      "859                                          Bruno Mars              52  \n",
      "927                                          Ed Sheeran              59  \n",
      "934   Luis Fonsi & Daddy Yankee Featuring Justin Bieber              52  \n",
      "958                                     Imagine Dragons              52  \n",
      "1092                                    Imagine Dragons              52  \n",
      "1282                  Bebe Rexha & Florida Georgia Line              52  \n",
      "1501                                             Avicii              54  \n"
     ]
    }
   ],
   "source": [
    "d = df.loc[df['Weeks On Chart'] >= 52,['Song','Artist','Weeks On Chart']]\n",
    "print(len(d))\n",
    "print(d)"
   ]
  },
  {
   "cell_type": "code",
   "execution_count": 38,
   "metadata": {
    "collapsed": false,
    "scrolled": true
   },
   "outputs": [
    {
     "name": "stdout",
     "output_type": "stream",
     "text": [
      "13\n",
      "                          Song  Weeks On Chart  Weeks On #1\n",
      "0                  Blank Space              36            7\n",
      "10                Shake It Off              50            0\n",
      "103                      Style              32            0\n",
      "169                 Wonderland               0            0\n",
      "180            You Are In Love               0            0\n",
      "190              New Romantics               8            0\n",
      "371             Wildest Dreams              27            0\n",
      "514           Out Of The Woods              10            0\n",
      "1213  Look What You Made Me Do              20            3\n",
      "1236          ...Ready For It?              20            0\n",
      "1280                  Gorgeous               4            0\n",
      "1297     Call It What You Want               2            0\n",
      "1438                  Delicate              35            0\n"
     ]
    }
   ],
   "source": [
    "ts = df.loc[df['Artist']=='Taylor Swift',['Song','Weeks On Chart','Weeks On #1']]\n",
    "print(len(ts))\n",
    "print(ts)"
   ]
  },
  {
   "cell_type": "code",
   "execution_count": 50,
   "metadata": {
    "collapsed": false
   },
   "outputs": [
    {
     "name": "stdout",
     "output_type": "stream",
     "text": [
      "10\n",
      "                        Song  Weeks On Chart  Weeks On #1\n",
      "909                 Red Opps               5            0\n",
      "1161            Bank Account              29            0\n",
      "1896                   A Lot               5            0\n",
      "1903  Can't Leave Without It               4            0\n",
      "1905          All My Friends               2            0\n",
      "1906            Break Da Law               0            0\n",
      "1907                     1.5               0            0\n",
      "1908       Out For The Night               0            0\n",
      "1909               Gun Smoke               0            0\n",
      "1911                    ASMR               0            0\n"
     ]
    }
   ],
   "source": [
    "svg = df.loc[df['Artist']=='21 Savage',['Song','Weeks On Chart','Weeks On #1']]\n",
    "print(len(svg))\n",
    "print(svg)"
   ]
  },
  {
   "cell_type": "code",
   "execution_count": 40,
   "metadata": {
    "collapsed": false
   },
   "outputs": [
    {
     "name": "stdout",
     "output_type": "stream",
     "text": [
      "13\n",
      "                                Song  Weeks On Chart  Weeks On #1\n",
      "3                  Thinking Out Loud              58            0\n",
      "18                             Don't              36            0\n",
      "927                     Shape Of You              59           12\n",
      "928               Castle On The Hill              33            0\n",
      "984       How Would You Feel (Paean)               2            0\n",
      "1001                            Dive               2            0\n",
      "1002                     Galway Girl               5            0\n",
      "1004                         New Man               0            0\n",
      "1005             Supermarket Flowers               0            0\n",
      "1006                 What Do I Know?               0            0\n",
      "1007                          Eraser               0            0\n",
      "1008  Hearts Don't Break Around Here               0            0\n",
      "1009                       Barcelona               0            0\n"
     ]
    }
   ],
   "source": [
    "ed = df.loc[df['Artist']=='Ed Sheeran',['Song','Weeks On Chart','Weeks On #1']]\n",
    "print(len(ed))\n",
    "print(ed)"
   ]
  },
  {
   "cell_type": "code",
   "execution_count": null,
   "metadata": {
    "collapsed": false
   },
   "outputs": [],
   "source": []
  },
  {
   "cell_type": "code",
   "execution_count": null,
   "metadata": {
    "collapsed": true
   },
   "outputs": [],
   "source": []
  }
 ],
 "metadata": {
  "kernelspec": {
   "display_name": "Python 3",
   "language": "python",
   "name": "python3"
  },
  "language_info": {
   "codemirror_mode": {
    "name": "ipython",
    "version": 3
   },
   "file_extension": ".py",
   "mimetype": "text/x-python",
   "name": "python",
   "nbconvert_exporter": "python",
   "pygments_lexer": "ipython3",
   "version": "3.6.0"
  }
 },
 "nbformat": 4,
 "nbformat_minor": 2
}
